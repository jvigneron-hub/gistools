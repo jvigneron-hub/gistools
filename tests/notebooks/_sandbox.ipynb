{
 "cells": [
  {
   "cell_type": "code",
   "execution_count": 5,
   "id": "ad2ccdac-063f-4ce2-a6a9-1213a6180190",
   "metadata": {},
   "outputs": [],
   "source": [
    "from gistools.record import Record\n",
    "from operator import eq"
   ]
  },
  {
   "cell_type": "code",
   "execution_count": 2,
   "id": "2b6bd340-d80b-4ec7-a14d-dad84f285fdc",
   "metadata": {},
   "outputs": [],
   "source": [
    "r1 = Record({'one': 1})\n",
    "r2 = Record({'two': 2})"
   ]
  },
  {
   "cell_type": "code",
   "execution_count": 3,
   "id": "9b2c2249-c665-43a1-99bc-590ab33f6774",
   "metadata": {},
   "outputs": [
    {
     "data": {
      "text/plain": [
       "{'one': 1, 'two': 2}"
      ]
     },
     "execution_count": 3,
     "metadata": {},
     "output_type": "execute_result"
    }
   ],
   "source": [
    "r1+r2"
   ]
  },
  {
   "cell_type": "code",
   "execution_count": 6,
   "id": "93683344-f53c-46eb-9c50-caebccbf6b88",
   "metadata": {},
   "outputs": [
    {
     "data": {
      "text/plain": [
       "True"
      ]
     },
     "execution_count": 6,
     "metadata": {},
     "output_type": "execute_result"
    }
   ],
   "source": [
    "r1.check(('one', eq, 1))"
   ]
  },
  {
   "cell_type": "code",
   "execution_count": null,
   "id": "6915cf69-8fd2-4aaf-ae9d-f565a57b2117",
   "metadata": {},
   "outputs": [],
   "source": []
  }
 ],
 "metadata": {
  "kernelspec": {
   "display_name": "Python 3 (ipykernel)",
   "language": "python",
   "name": "python3"
  },
  "language_info": {
   "codemirror_mode": {
    "name": "ipython",
    "version": 3
   },
   "file_extension": ".py",
   "mimetype": "text/x-python",
   "name": "python",
   "nbconvert_exporter": "python",
   "pygments_lexer": "ipython3",
   "version": "3.10.8"
  }
 },
 "nbformat": 4,
 "nbformat_minor": 5
}
