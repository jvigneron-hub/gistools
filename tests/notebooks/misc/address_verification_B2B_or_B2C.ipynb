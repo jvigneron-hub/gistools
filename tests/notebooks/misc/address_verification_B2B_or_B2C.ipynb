{
 "cells": [
  {
   "cell_type": "code",
   "execution_count": 1,
   "id": "0a9b8fa6-99ab-4945-a2aa-6706071c903f",
   "metadata": {},
   "outputs": [],
   "source": [
    "import os\n",
    "import warnings\n",
    "import numpy\n",
    "import pandas\n",
    "import geopandas\n",
    "import h3\n",
    "import matplotlib.pyplot as plt\n",
    "import seaborn as sns\n",
    "import ipywidgets as widgets\n",
    "import pickle\n",
    "\n",
    "from tqdm import tqdm_notebook\n",
    "from cartoframes.viz import *\n",
    "\n",
    "warnings.filterwarnings('ignore')\n",
    "warnings.simplefilter  ('ignore')\n",
    "\n",
    "%matplotlib inline\n",
    "sns.set()\n",
    "\n",
    "pandas.set_option('display.max_rows',     500)\n",
    "pandas.set_option('display.max_columns',  500)\n",
    "pandas.set_option('display.width',       1000)\n",
    "pandas.set_option('display.max_colwidth', 100)"
   ]
  },
  {
   "cell_type": "code",
   "execution_count": 2,
   "id": "affef91c-9b45-4745-8d1d-28523f00feea",
   "metadata": {},
   "outputs": [
    {
     "name": "stdout",
     "output_type": "stream",
     "text": [
      "API queries_quota: 50\n"
     ]
    }
   ],
   "source": [
    "from gistools.place import geocode\n",
    "from gistools.gmaps import set_credentials\n",
    "\n",
    "client_maps = set_credentials(keyfile='D:/credentials/google.maps/my_keyfile.json')"
   ]
  },
  {
   "cell_type": "code",
   "execution_count": 74,
   "id": "eef3739b-afc8-4608-ac3b-98f4a67559f7",
   "metadata": {},
   "outputs": [
    {
     "name": "stdout",
     "output_type": "stream",
     "text": [
      " address: 57 Av. de la Californie, 06200 Nice, France\n",
      "place id: ChIJVeynOYBNV0AR_77xtykCbwQ\n",
      " lat/lon: 43.68910, 7.24114\n",
      "   location type: ROOFTOP\n",
      "   types: ['establishment', 'health', 'hospital', 'point_of_interest']\n"
     ]
    }
   ],
   "source": [
    "response1 = client_maps.geocode(\"Hopital Lenval Nice\")\n",
    "\n",
    "print('address: {}\\nplace id: {}\\nlat/lon: {:.5f}, {:.5f}\\nlocation type: {}\\ntypes: {}'.format(\n",
    "    response1[0]['formatted_address'],\n",
    "    response1[0]['place_id'],\n",
    "    response1[0]['geometry']['location']['lat'], response1[0]['geometry']['location']['lng'],\n",
    "    response1[0]['geometry']['location_type'],\n",
    "    response1[0]['types']\n",
    "))"
   ]
  },
  {
   "cell_type": "code",
   "execution_count": 82,
   "id": "65e9fba8-6ed8-49b4-b15c-cf9edc0d7166",
   "metadata": {},
   "outputs": [
    {
     "name": "stdout",
     "output_type": "stream",
     "text": [
      "      address: 57 Av. de la Californie, 06200 Nice, France\n",
      "     place id: ChIJf_OFTELQzRIRSEaoo_SfBBc\n",
      "      lat/lon: 43.68910, 7.24114\n",
      "location type: ROOFTOP\n",
      "        types: ['premise']\n"
     ]
    }
   ],
   "source": [
    "response2 = client_maps.geocode(\"57 Av. de la Californie Nice\")\n",
    "\n",
    "print('address: {}\\nplace id: {}\\nlat/lon: {:.5f}, {:.5f}\\nlocation type: {}\\ntypes: {}'.format(\n",
    "    response2[0]['formatted_address'],\n",
    "    response2[0]['place_id'],\n",
    "    response2[0]['geometry']['location']['lat'], response1[0]['geometry']['location']['lng'],\n",
    "    response2[0]['geometry']['location_type'],\n",
    "    response2[0]['types']\n",
    "))"
   ]
  },
  {
   "cell_type": "code",
   "execution_count": 110,
   "id": "69573f8e-cb3f-4421-b867-e7770f9234e5",
   "metadata": {},
   "outputs": [
    {
     "name": "stdout",
     "output_type": "stream",
     "text": [
      "Lenval Foundation - Children's Hospital: hospital at 0 meters\n",
      "Maison Médicale de Garde Pédiatrique: doctor at 0 meters\n",
      "Centre IRM Lenval: health at 0 meters\n",
      "Dr Cyrille DESVEAUX: doctor at 0 meters\n",
      "Katia Chapelet: doctor at 0 meters\n",
      "Association Pallidol - Groupe de soutien aux enfants endeuillés: point_of_interest at 0 meters\n",
      "Center Scanner Lenval: hospital at 0 meters\n"
     ]
    }
   ],
   "source": [
    "from haversine import haversine\n",
    "\n",
    "response3 = client_maps.places_nearby(\n",
    "    location=(response2[0]['geometry']['location']['lat'], response2[0]['geometry']['location']['lng']),\n",
    "    radius=10, type='point_of_interest'\n",
    ")\n",
    "\n",
    "if response3['status'] == 'OK':\n",
    "    for r in response3['results']:\n",
    "        d = haversine(\n",
    "            (response2[0]['geometry']['location']['lat'], response1[0]['geometry']['location']['lng']),\n",
    "            (r['geometry']['location']['lat'], r['geometry']['location']['lng'])\n",
    "        )\n",
    "        \n",
    "        print('{}: {} at {:.0f} meters'.format(r['name'], r['types'][0], d))"
   ]
  },
  {
   "cell_type": "code",
   "execution_count": 111,
   "id": "c509e65b-ad30-4205-9d17-16109ab4c43f",
   "metadata": {},
   "outputs": [
    {
     "name": "stdout",
     "output_type": "stream",
     "text": [
      "address: 31 Av. des Bosquets, 06200 Nice, France\n",
      "place id: ChIJjbuHmVHQzRIR8iQzYwWg_t0\n",
      "lat/lon: 43.68475, 7.24114\n",
      "location type: ROOFTOP\n",
      "types: ['premise']\n"
     ]
    }
   ],
   "source": [
    "response4 = client_maps.geocode(\"31 av. des Bosquets Nice\")\n",
    "\n",
    "print('address: {}\\nplace id: {}\\nlat/lon: {:.5f}, {:.5f}\\nlocation type: {}\\ntypes: {}'.format(\n",
    "    response4[0]['formatted_address'],\n",
    "    response4[0]['place_id'],\n",
    "    response4[0]['geometry']['location']['lat'], response1[0]['geometry']['location']['lng'],\n",
    "    response4[0]['geometry']['location_type'],\n",
    "    response4[0]['types']\n",
    "))"
   ]
  },
  {
   "cell_type": "code",
   "execution_count": 109,
   "id": "199f40c8-80b1-49e0-95d3-e25bba70b70e",
   "metadata": {},
   "outputs": [
    {
     "name": "stdout",
     "output_type": "stream",
     "text": [
      "Avenue de la Pastorelle Garden: park at 49 meters\n",
      "La Pastorelle: transit_station at 69 meters\n",
      "La Pastorelle: transit_station at 68 meters\n",
      "La Pastorelle: transit_station at 76 meters\n",
      "OMNIA TRANSFERT: point_of_interest at 91 meters\n"
     ]
    }
   ],
   "source": [
    "from haversine import haversine\n",
    "\n",
    "response5 = client_maps.places_nearby(\n",
    "    location=(response4[0]['geometry']['location']['lat'], response4[0]['geometry']['location']['lng']),\n",
    "    radius=100, type='point_of_interest'\n",
    ")\n",
    "\n",
    "if response5['status'] == 'OK':\n",
    "    for r in response5['results']:\n",
    "        d = haversine(\n",
    "            (response4[0]['geometry']['location']['lat'], response4[0]['geometry']['location']['lng']),\n",
    "            (r['geometry']['location']['lat'], r['geometry']['location']['lng'])\n",
    "        )\n",
    "        \n",
    "        print('{}: {} at {:.0f} meters'.format(r['name'], r['types'][0], d*1000))"
   ]
  },
  {
   "cell_type": "code",
   "execution_count": null,
   "id": "bc57dd62-cd5a-4caf-ba2f-1355d6c97a9c",
   "metadata": {},
   "outputs": [],
   "source": []
  }
 ],
 "metadata": {
  "kernelspec": {
   "display_name": "Python 3 (ipykernel)",
   "language": "python",
   "name": "python3"
  },
  "language_info": {
   "codemirror_mode": {
    "name": "ipython",
    "version": 3
   },
   "file_extension": ".py",
   "mimetype": "text/x-python",
   "name": "python",
   "nbconvert_exporter": "python",
   "pygments_lexer": "ipython3",
   "version": "3.10.8"
  }
 },
 "nbformat": 4,
 "nbformat_minor": 5
}
